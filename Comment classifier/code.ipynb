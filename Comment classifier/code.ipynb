{
 "cells": [
  {
   "cell_type": "markdown",
   "metadata": {},
   "source": [
    "# <div style=\"text-align: center; background-color: #682F2F; font-family:bookantique; color: white; padding: 14px; line-height: 1;border-radius:20px\">📊 Comment Classifier</div>"
   ]
  },
  {
   "cell_type": "markdown",
   "metadata": {},
   "source": [
    "<a id=\"top\"></a>\n",
    "<div class=\"list-group\" id=\"list-tab\" role=\"tablist\">\n",
    "    <h4 style=\"text-align: left; background-color: #682F2F; font-family:newtimeroman; color: white; padding: 14px; line-height: 1; border-radius:10px\"><b>Table of Contents📝</b></h4>\n",
    "    \n",
    "   * [1. Business Context](#1)\n",
    "        - [1.1 Problem ](#1.1)\n",
    "        - [1.2. Solution](#1.2)\n",
    "   * [2. Import Important Libraries](#2)\n",
    "   * [3. Data Exploration](#3)\n",
    "   * [4. Model Building](#4)\n",
    "   * [5. Solution](#5)\n",
    "   * [6. Summery](#6)"
   ]
  },
  {
   "cell_type": "markdown",
   "metadata": {},
   "source": [
    "<a id=\"1\"></a>\n",
    "# <div style=\"text-align: center; background-color: #682F2F; font-family:newtimeroman;font-size:15px color: white; padding: 14px; line-height:0.5;border-radius:20px\">Business Context</div>"
   ]
  },
  {
   "cell_type": "markdown",
   "metadata": {},
   "source": [
    "### Problem\n",
    "\n",
    "There are numerous comments that are useless and have the only purpose of promoting other goods or services, regardless of whether they take the shape of product reviews, customer feedback, or some other format. This frequently ruins the experience of other customers and irritates them. Therefore, there needs to be a method through which we may filter these kinds of comments.\n",
    "\n",
    "### Solution\n",
    "\n",
    "I have developed a model that can distinguish between genuine comments and advertisements, which improves the consumer experience and eliminates manual filtering work."
   ]
  },
  {
   "cell_type": "markdown",
   "metadata": {},
   "source": [
    "<a id=\"2\"></a>\n",
    "# <div style=\"text-align: center; background-color: #682F2F; font-family:newtimeroman;font-size:15px color: white; padding: 14px; line-height:0.5;border-radius:20px\">Importing Libraries </div>"
   ]
  },
  {
   "cell_type": "code",
   "execution_count": 1,
   "metadata": {},
   "outputs": [],
   "source": [
    "# For data analysis and Cleaning of data\n",
    "import pandas as pd\n",
    "import numpy as np\n",
    "\n",
    "# visualization\n",
    "import matplotlib as mpl\n",
    "import matplotlib.pyplot as plt\n",
    "import seaborn as sns\n",
    "from wordcloud import WordCloud\n",
    "\n",
    "# Machine Learning\n",
    "import sklearn\n",
    "from sklearn import model_selection\n",
    "from sklearn.model_selection import train_test_split\n",
    "from sklearn.feature_extraction.text import TfidfVectorizer\n",
    "from sklearn.linear_model import PassiveAggressiveClassifier\n",
    "from sklearn.naive_bayes import MultinomialNB\n",
    "from sklearn.ensemble import RandomForestClassifier, GradientBoostingClassifier, AdaBoostClassifier\n",
    "from xgboost import XGBRFClassifier,XGBClassifier\n",
    "from sklearn.svm import SVC\n",
    "from sklearn.metrics import confusion_matrix, accuracy_score, classification_report\n",
    "\n",
    "# Deep learning\n",
    "from keras import layers\n",
    "from keras.models import Sequential\n",
    "from keras.layers import Dense, Embedding, Input,GlobalMaxPool1D,Dropout\n",
    "from keras.preprocessing.text import one_hot, Tokenizer\n",
    "\n",
    "# Text preprocessing/analysis\n",
    "import re\n",
    "from nltk import word_tokenize, sent_tokenize, FreqDist\n",
    "from nltk.util import ngrams\n",
    "from nltk.corpus import stopwords\n",
    "from nltk.stem import WordNetLemmatizer\n",
    "from nltk.tokenize import RegexpTokenizer"
   ]
  },
  {
   "cell_type": "code",
   "execution_count": 2,
   "metadata": {},
   "outputs": [],
   "source": [
    "all_estimators = sklearn.utils.all_estimators(type_filter=None)\n",
    "\n",
    "# styling\n",
    "%matplotlib inline\n",
    "sns.set_theme(style=\"dark\")\n",
    "mpl.rcParams['axes.unicode_minus'] = False\n",
    "pd.set_option('display.max_columns',None)\n",
    "plt.style.use('seaborn-dark-palette')\n",
    "plt.style.use('dark_background')\n",
    "\n",
    "import warnings\n",
    "warnings.filterwarnings('ignore')\n",
    "warnings.simplefilter('ignore')"
   ]
  },
  {
   "cell_type": "markdown",
   "metadata": {},
   "source": [
    "<a id=\"3\"></a>\n",
    "# <div style=\"text-align: center; background-color: #682F2F; font-family:newtimeroman;font-size:15px color: white; padding: 14px; line-height:0.5;border-radius:20px\">Data Exploration </div>"
   ]
  },
  {
   "cell_type": "markdown",
   "metadata": {},
   "source": [
    "### About Dataset:\n",
    "\n",
    "    Dataset contains 5 columns:\n",
    "    \n",
    "        Comment_Id: Randomly generated ID of the comment\n",
    "        Author: Person who is writing comment\n",
    "        Date: Exact date and time of the comment\n",
    "        Content: Content of the comment\n",
    "        Class: Label of the comment (1: Advertisement , 0: Genuine)\n",
    "\n",
    "\n",
    "Since these comment ids are generated at random, there is no direct relationship between the comment id and the class label in this case. Therefore, it doesn't actually affect class label, and class label simply depends on the comment's content only. \n",
    "\n",
    "So, To determine label of class, we will only use content of the comment."
   ]
  },
  {
   "cell_type": "code",
   "execution_count": 3,
   "metadata": {},
   "outputs": [
    {
     "data": {
      "text/html": [
       "<div>\n",
       "<style scoped>\n",
       "    .dataframe tbody tr th:only-of-type {\n",
       "        vertical-align: middle;\n",
       "    }\n",
       "\n",
       "    .dataframe tbody tr th {\n",
       "        vertical-align: top;\n",
       "    }\n",
       "\n",
       "    .dataframe thead th {\n",
       "        text-align: right;\n",
       "    }\n",
       "</style>\n",
       "<table border=\"1\" class=\"dataframe\">\n",
       "  <thead>\n",
       "    <tr style=\"text-align: right;\">\n",
       "      <th></th>\n",
       "      <th>COMMENT_ID</th>\n",
       "      <th>AUTHOR</th>\n",
       "      <th>DATE</th>\n",
       "      <th>CONTENT</th>\n",
       "      <th>CLASS</th>\n",
       "    </tr>\n",
       "  </thead>\n",
       "  <tbody>\n",
       "    <tr>\n",
       "      <th>0</th>\n",
       "      <td>LZQPQhLyRh80UYxNuaDWhIGQYNQ96IuCg-AYWqNPjpU</td>\n",
       "      <td>Julius NM</td>\n",
       "      <td>2013-11-07T06:20:48</td>\n",
       "      <td>Huh, anyway check out this you[tube] channel: ...</td>\n",
       "      <td>1</td>\n",
       "    </tr>\n",
       "    <tr>\n",
       "      <th>1</th>\n",
       "      <td>z13jhp0bxqncu512g22wvzkasxmvvzjaz04</td>\n",
       "      <td>ElNino Melendez</td>\n",
       "      <td>2013-11-09T08:28:43</td>\n",
       "      <td>me shaking my sexy ass on my channel enjoy ^_^ ﻿</td>\n",
       "      <td>1</td>\n",
       "    </tr>\n",
       "    <tr>\n",
       "      <th>2</th>\n",
       "      <td>z13fwbwp1oujthgqj04chlngpvzmtt3r3dw</td>\n",
       "      <td>GsMega</td>\n",
       "      <td>2013-11-10T16:05:38</td>\n",
       "      <td>watch?v=vtaRGgvGtWQ   Check this out .﻿</td>\n",
       "      <td>1</td>\n",
       "    </tr>\n",
       "    <tr>\n",
       "      <th>3</th>\n",
       "      <td>z13lfzdo5vmdi1cm123te5uz2mqig1brz04</td>\n",
       "      <td>ferleck ferles</td>\n",
       "      <td>2013-11-27T21:39:24</td>\n",
       "      <td>Subscribe to my channel ﻿</td>\n",
       "      <td>1</td>\n",
       "    </tr>\n",
       "    <tr>\n",
       "      <th>4</th>\n",
       "      <td>z12avveb4xqiirsix04chxviiljryduwxg0</td>\n",
       "      <td>BeBe Burkey</td>\n",
       "      <td>2013-11-28T16:30:13</td>\n",
       "      <td>and u should.d check my channel and tell me wh...</td>\n",
       "      <td>1</td>\n",
       "    </tr>\n",
       "  </tbody>\n",
       "</table>\n",
       "</div>"
      ],
      "text/plain": [
       "                                    COMMENT_ID           AUTHOR  \\\n",
       "0  LZQPQhLyRh80UYxNuaDWhIGQYNQ96IuCg-AYWqNPjpU        Julius NM   \n",
       "1          z13jhp0bxqncu512g22wvzkasxmvvzjaz04  ElNino Melendez   \n",
       "2          z13fwbwp1oujthgqj04chlngpvzmtt3r3dw           GsMega   \n",
       "3          z13lfzdo5vmdi1cm123te5uz2mqig1brz04   ferleck ferles   \n",
       "4          z12avveb4xqiirsix04chxviiljryduwxg0      BeBe Burkey   \n",
       "\n",
       "                  DATE                                            CONTENT  \\\n",
       "0  2013-11-07T06:20:48  Huh, anyway check out this you[tube] channel: ...   \n",
       "1  2013-11-09T08:28:43   me shaking my sexy ass on my channel enjoy ^_^ ﻿   \n",
       "2  2013-11-10T16:05:38            watch?v=vtaRGgvGtWQ   Check this out .﻿   \n",
       "3  2013-11-27T21:39:24                          Subscribe to my channel ﻿   \n",
       "4  2013-11-28T16:30:13  and u should.d check my channel and tell me wh...   \n",
       "\n",
       "   CLASS  \n",
       "0      1  \n",
       "1      1  \n",
       "2      1  \n",
       "3      1  \n",
       "4      1  "
      ]
     },
     "execution_count": 3,
     "metadata": {},
     "output_type": "execute_result"
    }
   ],
   "source": [
    "# Reading data\n",
    "df = pd.read_csv('data/train.csv')\n",
    "df.head()"
   ]
  },
  {
   "cell_type": "code",
   "execution_count": 4,
   "metadata": {},
   "outputs": [],
   "source": [
    "df.drop(['COMMENT_ID', 'DATE','AUTHOR'], axis=1, inplace=True)"
   ]
  },
  {
   "cell_type": "code",
   "execution_count": 5,
   "metadata": {},
   "outputs": [
    {
     "data": {
      "text/plain": [
       "1    586\n",
       "0    571\n",
       "Name: CLASS, dtype: int64"
      ]
     },
     "execution_count": 5,
     "metadata": {},
     "output_type": "execute_result"
    }
   ],
   "source": [
    "df.shape\n",
    "df['CLASS'].value_counts()"
   ]
  },
  {
   "cell_type": "markdown",
   "metadata": {},
   "source": [
    "We have a good data, evenly distributed in both classes."
   ]
  },
  {
   "cell_type": "code",
   "execution_count": 6,
   "metadata": {},
   "outputs": [
    {
     "name": "stdout",
     "output_type": "stream",
     "text": [
      "<class 'pandas.core.frame.DataFrame'>\n",
      "RangeIndex: 1157 entries, 0 to 1156\n",
      "Data columns (total 2 columns):\n",
      " #   Column   Non-Null Count  Dtype \n",
      "---  ------   --------------  ----- \n",
      " 0   CONTENT  1157 non-null   object\n",
      " 1   CLASS    1157 non-null   int64 \n",
      "dtypes: int64(1), object(1)\n",
      "memory usage: 18.2+ KB\n"
     ]
    }
   ],
   "source": [
    "df.info()"
   ]
  },
  {
   "cell_type": "markdown",
   "metadata": {},
   "source": [
    "So Null data is not present in the dataset."
   ]
  },
  {
   "cell_type": "code",
   "execution_count": 7,
   "metadata": {},
   "outputs": [
    {
     "data": {
      "image/png": "[encoded data removed]",
      "text/plain": [
       "<Figure size 864x720 with 1 Axes>"
      ]
     },
     "metadata": {},
     "output_type": "display_data"
    },
    {
     "data": {
      "image/png": "[encoded data removed]",
      "text/plain": [
       "<Figure size 864x720 with 1 Axes>"
      ]
     },
     "metadata": {},
     "output_type": "display_data"
    }
   ],
   "source": [
    "def preprocess_text(text):\n",
    "    \n",
    "    \"\"\" Preprocess text into normalised tokens.\n",
    "        Tokenise words into alphabetic tokens\n",
    "    \"\"\"\n",
    "    \n",
    "    tokeniser = RegexpTokenizer(r'[A-Za-z]{2,}')\n",
    "    tokens = tokeniser.tokenize(text)\n",
    "    \n",
    "    '''\n",
    "    Why lower case is used because some words contains first letter capital which make it different than lower case letter so to deal with problem lowercase is done.\n",
    "\n",
    "    lemmatizer is used to convert text into useable formate:\n",
    "    example:\n",
    "    -> rocks : rock\n",
    "    -> corpora : corpus\n",
    "    -> better : good\n",
    "    \n",
    "    Using which we can use it to compare the list to analyse the result\n",
    "    '''\n",
    "    \n",
    "    lemmatiser = WordNetLemmatizer()\n",
    "    lemmas = [lemmatiser.lemmatize(token.lower(), pos='v') for token in tokens]\n",
    "    \n",
    "    # Remove stopwords\n",
    "    stop_words = stopwords.words(\"english\")\n",
    "    keywords= [lemma for lemma in lemmas if lemma not in stop_words]\n",
    "    return keywords\n",
    "\n",
    "\n",
    "def get_frequent_ngram(corpus, ngram, n=15):\n",
    "    \n",
    "    \"\"\"Find most common n n-grams tokens.\"\"\"\n",
    "    \n",
    "    # Preprocess each document\n",
    "    documents = [preprocess_text(document) for document in corpus]\n",
    "    \n",
    "    # Find ngrams per document\n",
    "    n_grams = [list(ngrams(document, ngram)) for document in documents]\n",
    "    \n",
    "    # Find frequency of ngrams\n",
    "    n_grams_flattened = [item for sublist in n_grams for item in sublist]\n",
    "    freq_dist = FreqDist(n_grams_flattened)\n",
    "    top_freq = freq_dist.most_common(n)\n",
    "    return pd.DataFrame(top_freq, columns=[\"ngram\", \"count\"])\n",
    "\n",
    "\n",
    "# Get frequent ngrams for all 4\n",
    "for i in range(1,3):\n",
    "    mapping = {1:\"uni\", 2:\"bi\", 3:\"tri\", 4:\"four\"}\n",
    "    plt.figure(figsize=(12,10))\n",
    "    sns.barplot(x=\"count\", y=\"ngram\", data=get_frequent_ngram(df['CONTENT'], i))\n",
    "    plt.title(f\"Most common {mapping[i]}grams\");\n",
    "    "
   ]
  },
  {
   "cell_type": "code",
   "execution_count": 8,
   "metadata": {},
   "outputs": [
    {
     "data": {
      "text/plain": [
       "0        (check,)\n",
       "1          (com,)\n",
       "2        (video,)\n",
       "3           (br,)\n",
       "4         (song,)\n",
       "5      (youtube,)\n",
       "6       (please,)\n",
       "7         (like,)\n",
       "8    (subscribe,)\n",
       "9          (get,)\n",
       "Name: ngram, dtype: object"
      ]
     },
     "execution_count": 8,
     "metadata": {},
     "output_type": "execute_result"
    }
   ],
   "source": [
    "data= get_frequent_ngram(df['CONTENT'],1)['ngram']\n",
    "data.head(10)"
   ]
  },
  {
   "cell_type": "markdown",
   "metadata": {},
   "source": [
    "<a id=\"4\"></a>\n",
    "# <div style=\"text-align: center; background-color: #682F2F; font-family:newtimeroman;font-size:15px color: white; padding: 14px; line-height:0.5;border-radius:20px\">Model Building </div>"
   ]
  },
  {
   "cell_type": "markdown",
   "metadata": {},
   "source": [
    "### Use most popular algos,\n",
    "Use some of the most popular ML classification algo to find out the most effective algo.\n",
    "    \n",
    "* Multinomial Naive Bayes\n",
    "* Support Vector classifier\n",
    "* Random forest classifier\n",
    "* AdaBoost classifier\n",
    "* GradientBoost classifier\n",
    "* Passive Aggressive Classifier\n",
    "* XGBoost classifier\n",
    "\n",
    "And we will also use Deep Learning method to find best solution"
   ]
  },
  {
   "cell_type": "code",
   "execution_count": 9,
   "metadata": {},
   "outputs": [],
   "source": [
    "x = df['CONTENT']\n",
    "y = df['CLASS']\n",
    "\n",
    "x_train,x_test,y_train,y_test=train_test_split(df['CONTENT'],y, test_size=0.2, random_state=7)"
   ]
  },
  {
   "cell_type": "code",
   "execution_count": 10,
   "metadata": {},
   "outputs": [],
   "source": [
    "#DataFlair - Initialize a TfidfVectorizer----- this is used to convert text into vectors using frequency distribution \n",
    "tfidf_vectorizer=TfidfVectorizer(stop_words='english', max_df=0.7)\n",
    "\n",
    "\n",
    "#DataFlair - Fit and transform train set, transform test set\n",
    "tfidf_train=tfidf_vectorizer.fit_transform(x_train) \n",
    "tfidf_test=tfidf_vectorizer.transform(x_test)\n",
    "\n",
    "tfidf_x = tfidf_vectorizer.fit_transform(x)"
   ]
  },
  {
   "cell_type": "code",
   "execution_count": 11,
   "metadata": {},
   "outputs": [],
   "source": [
    "models = []\n",
    "models.append((\"mnc\",MultinomialNB()))\n",
    "models.append((\"SVMc\",SVC()))\n",
    "models.append((\"rfc\",RandomForestClassifier()))\n",
    "models.append((\"abc\",AdaBoostClassifier()))\n",
    "models.append((\"gbc\",GradientBoostingClassifier()))\n",
    "models.append((\"pac\",PassiveAggressiveClassifier(max_iter=50)))\n",
    "models.append((\"xgbc\",XGBClassifier(eval_metric='mlogloss')))\n",
    "models.append((\"xgrfbc\",XGBRFClassifier(eval_metric='mlogloss')))"
   ]
  },
  {
   "cell_type": "markdown",
   "metadata": {},
   "source": [
    "##### Evaluation and comparison of the models\n",
    "    also can use scoring = ['accuracy','precision','recall'] \n",
    "    where we can use these metrics to analysis "
   ]
  },
  {
   "cell_type": "code",
   "execution_count": 12,
   "metadata": {},
   "outputs": [
    {
     "name": "stdout",
     "output_type": "stream",
     "text": [
      "mnc: 88.33 (2.97)\n",
      "SVMc: 90.92 (2.73)\n",
      "rfc: 92.74 (2.68)\n",
      "abc: 92.22 (3.69)\n",
      "gbc: 90.50 (4.50)\n",
      "pac: 91.01 (1.49)\n",
      "xgbc: 91.79 (1.82)\n",
      "xgrfbc: 87.82 (3.84)\n"
     ]
    }
   ],
   "source": [
    "results = []\n",
    "names = []\n",
    "\n",
    "for name, model in models:\n",
    "\tkfold = model_selection.KFold(n_splits=7)\n",
    "\tcv_results = model_selection.cross_val_score(model, tfidf_x, y, cv=kfold, scoring='accuracy')\n",
    "\tresults.append(cv_results*100)\n",
    "\tnames.append(name)\n",
    "\tmsg = \"%s: %.2f (%.2f)\" % (name, cv_results.mean()*100, cv_results.std()*100)\n",
    "\tprint(msg)"
   ]
  },
  {
   "cell_type": "code",
   "execution_count": 13,
   "metadata": {},
   "outputs": [
    {
     "data": {
      "image/png": "[encoded data removed]",
      "text/plain": [
       "<Figure size 432x288 with 1 Axes>"
      ]
     },
     "metadata": {},
     "output_type": "display_data"
    }
   ],
   "source": [
    "# boxplot of results comparison\n",
    "\n",
    "fig = plt.figure()\n",
    "fig.suptitle('Algorithm Comparison')\n",
    "plt.boxplot(results)\n",
    "plt.xlabel(names)\n",
    "plt.ylabel('Accuracy')\n",
    "plt.show()"
   ]
  },
  {
   "cell_type": "markdown",
   "metadata": {},
   "source": [
    "#### Artificial Neural Network model"
   ]
  },
  {
   "cell_type": "code",
   "execution_count": 14,
   "metadata": {},
   "outputs": [
    {
     "name": "stdout",
     "output_type": "stream",
     "text": [
      "Epoch 1/10\n",
      "29/29 [==============================] - 1s 21ms/step - loss: 0.4595 - accuracy: 0.8000\n",
      "Epoch 2/10\n",
      "29/29 [==============================] - 1s 21ms/step - loss: 0.0545 - accuracy: 0.9805\n",
      "Epoch 3/10\n",
      "29/29 [==============================] - 1s 21ms/step - loss: 0.0041 - accuracy: 0.9989\n",
      "Epoch 4/10\n",
      "29/29 [==============================] - 1s 22ms/step - loss: 0.0018 - accuracy: 1.0000\n",
      "Epoch 5/10\n",
      "29/29 [==============================] - 1s 22ms/step - loss: 9.0570e-04 - accuracy: 1.0000\n",
      "Epoch 6/10\n",
      "29/29 [==============================] - 1s 21ms/step - loss: 7.1306e-04 - accuracy: 1.0000\n",
      "Epoch 7/10\n",
      "29/29 [==============================] - 1s 31ms/step - loss: 5.2104e-04 - accuracy: 1.0000\n",
      "Epoch 8/10\n",
      "29/29 [==============================] - 1s 26ms/step - loss: 3.8344e-04 - accuracy: 1.0000\n",
      "Epoch 9/10\n",
      "29/29 [==============================] - 1s 21ms/step - loss: 3.1138e-04 - accuracy: 1.0000\n",
      "Epoch 10/10\n",
      "29/29 [==============================] - 1s 21ms/step - loss: 2.6967e-04 - accuracy: 1.0000\n"
     ]
    },
    {
     "data": {
      "text/plain": [
       "<keras.callbacks.History at 0x20557afca00>"
      ]
     },
     "execution_count": 14,
     "metadata": {},
     "output_type": "execute_result"
    }
   ],
   "source": [
    "### Artificial Neural Network model\n",
    "input_dim = tfidf_train.shape[1]  # Number of features\n",
    "\n",
    "ann_model = Sequential(layers=[\n",
    "    Dense(units=1024,activation='relu',input_shape=[input_dim]),\n",
    "    Dense(units=512,activation='tanh'),\n",
    "    Dense(1,activation='sigmoid')]\n",
    ")\n",
    "\n",
    "ann_model.compile(optimizer='adam',loss='binary_crossentropy', metrics=['accuracy'])\n",
    "ann_model.fit(tfidf_train.toarray(), y_train, epochs=10, batch_size=32)"
   ]
  },
  {
   "cell_type": "code",
   "execution_count": 15,
   "metadata": {},
   "outputs": [
    {
     "name": "stdout",
     "output_type": "stream",
     "text": [
      "29/29 [==============================] - 0s 6ms/step - loss: 2.2525e-04 - accuracy: 1.0000\n",
      "8/8 [==============================] - 0s 5ms/step - loss: 0.3415 - accuracy: 0.9095\n",
      "Model: \"sequential\"\n",
      "_________________________________________________________________\n",
      " Layer (type)                Output Shape              Param #   \n",
      "=================================================================\n",
      " dense (Dense)               (None, 1024)              2622464   \n",
      "                                                                 \n",
      " dense_1 (Dense)             (None, 512)               524800    \n",
      "                                                                 \n",
      " dense_2 (Dense)             (None, 1)                 513       \n",
      "                                                                 \n",
      "=================================================================\n",
      "Total params: 3,147,777\n",
      "Trainable params: 3,147,777\n",
      "Non-trainable params: 0\n",
      "_________________________________________________________________\n",
      "None\n"
     ]
    }
   ],
   "source": [
    "ann_model.evaluate(tfidf_train.toarray(), y_train)\n",
    "ann_model.evaluate(tfidf_test.toarray(), y_test)\n",
    "print(ann_model.summary())"
   ]
  },
  {
   "cell_type": "markdown",
   "metadata": {},
   "source": [
    "<a id=\"5\"></a>\n",
    "# <div style=\"text-align: center; background-color: #682F2F; font-family:newtimeroman;font-size:15px color: white; padding: 14px; line-height:0.5;border-radius:20px\">Solution</div>"
   ]
  },
  {
   "cell_type": "markdown",
   "metadata": {},
   "source": [
    "#### \"Random forest classifier\" work best\n",
    "##### Results:\n",
    "    From the Boxlpot and ANN\n",
    "    Random forest classifier have avg accuracy of 93.26\n",
    "    ANN have accuracy of 91.38\n",
    "So selecting RF for production"
   ]
  },
  {
   "cell_type": "markdown",
   "metadata": {},
   "source": [
    "Use Optuna to find optimal model hyperparameter"
   ]
  },
  {
   "cell_type": "code",
   "execution_count": 19,
   "metadata": {},
   "outputs": [
    {
     "name": "stderr",
     "output_type": "stream",
     "text": [
      "\u001b[32m[I 2022-10-09 01:33:30,533]\u001b[0m A new study created in memory with name: no-name-f62513c8-0d0f-43bd-b65d-81c934f2cf6a\u001b[0m\n",
      "\u001b[32m[I 2022-10-09 01:33:30,593]\u001b[0m Trial 0 finished with value: 0.8478989401403194 and parameters: {'n_estimators': 22, 'max_depth': 2}. Best is trial 0 with value: 0.8478989401403194.\u001b[0m\n",
      "\u001b[32m[I 2022-10-09 01:33:30,652]\u001b[0m Trial 1 finished with value: 0.7969510374682788 and parameters: {'n_estimators': 8, 'max_depth': 11}. Best is trial 0 with value: 0.8478989401403194.\u001b[0m\n",
      "\u001b[32m[I 2022-10-09 01:33:30,749]\u001b[0m Trial 2 finished with value: 0.8755523212419764 and parameters: {'n_estimators': 16, 'max_depth': 15}. Best is trial 2 with value: 0.8755523212419764.\u001b[0m\n",
      "\u001b[32m[I 2022-10-09 01:33:30,912]\u001b[0m Trial 3 finished with value: 0.9040677713091506 and parameters: {'n_estimators': 25, 'max_depth': 33}. Best is trial 3 with value: 0.9040677713091506.\u001b[0m\n",
      "\u001b[32m[I 2022-10-09 01:33:31,015]\u001b[0m Trial 4 finished with value: 0.9075384385729214 and parameters: {'n_estimators': 15, 'max_depth': 48}. Best is trial 4 with value: 0.9075384385729214.\u001b[0m\n",
      "\u001b[32m[I 2022-10-09 01:33:31,196]\u001b[0m Trial 5 finished with value: 0.9092700403045232 and parameters: {'n_estimators': 29, 'max_depth': 43}. Best is trial 5 with value: 0.9092700403045232.\u001b[0m\n",
      "\u001b[32m[I 2022-10-09 01:33:31,220]\u001b[0m Trial 6 finished with value: 0.8288886400955369 and parameters: {'n_estimators': 2, 'max_depth': 44}. Best is trial 5 with value: 0.9092700403045232.\u001b[0m\n",
      "\u001b[32m[I 2022-10-09 01:33:31,259]\u001b[0m Trial 7 finished with value: 0.896294223018361 and parameters: {'n_estimators': 4, 'max_depth': 50}. Best is trial 5 with value: 0.9092700403045232.\u001b[0m\n",
      "\u001b[32m[I 2022-10-09 01:33:31,315]\u001b[0m Trial 8 finished with value: 0.8694991789819376 and parameters: {'n_estimators': 4, 'max_depth': 36}. Best is trial 5 with value: 0.9092700403045232.\u001b[0m\n",
      "\u001b[32m[I 2022-10-09 01:33:31,432]\u001b[0m Trial 9 finished with value: 0.8712979549186446 and parameters: {'n_estimators': 24, 'max_depth': 14}. Best is trial 5 with value: 0.9092700403045232.\u001b[0m\n",
      "\u001b[32m[I 2022-10-09 01:33:31,636]\u001b[0m Trial 10 finished with value: 0.9144499178981939 and parameters: {'n_estimators': 30, 'max_depth': 55}. Best is trial 10 with value: 0.9144499178981939.\u001b[0m\n",
      "\u001b[32m[I 2022-10-09 01:33:31,842]\u001b[0m Trial 11 finished with value: 0.9127108523660249 and parameters: {'n_estimators': 29, 'max_depth': 58}. Best is trial 10 with value: 0.9144499178981939.\u001b[0m\n",
      "\u001b[32m[I 2022-10-09 01:33:32,035]\u001b[0m Trial 12 finished with value: 0.9187565308254964 and parameters: {'n_estimators': 28, 'max_depth': 60}. Best is trial 12 with value: 0.9187565308254964.\u001b[0m\n",
      "\u001b[32m[I 2022-10-09 01:33:32,301]\u001b[0m Trial 13 finished with value: 0.9179019256605464 and parameters: {'n_estimators': 30, 'max_depth': 58}. Best is trial 12 with value: 0.9187565308254964.\u001b[0m\n",
      "\u001b[32m[I 2022-10-09 01:33:32,535]\u001b[0m Trial 14 finished with value: 0.9049484997760858 and parameters: {'n_estimators': 21, 'max_depth': 60}. Best is trial 12 with value: 0.9187565308254964.\u001b[0m\n",
      "\u001b[32m[I 2022-10-09 01:33:32,706]\u001b[0m Trial 15 finished with value: 0.9144536497984774 and parameters: {'n_estimators': 19, 'max_depth': 24}. Best is trial 12 with value: 0.9187565308254964.\u001b[0m\n",
      "\u001b[32m[I 2022-10-09 01:33:32,838]\u001b[0m Trial 16 finished with value: 0.9040789670100015 and parameters: {'n_estimators': 12, 'max_depth': 53}. Best is trial 12 with value: 0.9187565308254964.\u001b[0m\n",
      "\u001b[32m[I 2022-10-09 01:33:33,021]\u001b[0m Trial 17 finished with value: 0.9057919092401849 and parameters: {'n_estimators': 27, 'max_depth': 39}. Best is trial 12 with value: 0.9187565308254964.\u001b[0m\n",
      "\u001b[32m[I 2022-10-09 01:33:33,172]\u001b[0m Trial 18 finished with value: 0.8962867592177938 and parameters: {'n_estimators': 26, 'max_depth': 26}. Best is trial 12 with value: 0.9187565308254964.\u001b[0m\n",
      "\u001b[32m[I 2022-10-09 01:33:33,308]\u001b[0m Trial 19 finished with value: 0.9101134497686223 and parameters: {'n_estimators': 19, 'max_depth': 48}. Best is trial 12 with value: 0.9187565308254964.\u001b[0m\n",
      "\u001b[32m[I 2022-10-09 01:33:33,505]\u001b[0m Trial 20 finished with value: 0.9126809971637557 and parameters: {'n_estimators': 23, 'max_depth': 58}. Best is trial 12 with value: 0.9187565308254964.\u001b[0m\n",
      "\u001b[32m[I 2022-10-09 01:33:33,638]\u001b[0m Trial 21 finished with value: 0.8945775488878936 and parameters: {'n_estimators': 19, 'max_depth': 25}. Best is trial 12 with value: 0.9187565308254964.\u001b[0m\n",
      "\u001b[32m[I 2022-10-09 01:33:33,790]\u001b[0m Trial 22 finished with value: 0.8945738169876101 and parameters: {'n_estimators': 27, 'max_depth': 24}. Best is trial 12 with value: 0.9187565308254964.\u001b[0m\n",
      "\u001b[32m[I 2022-10-09 01:33:33,936]\u001b[0m Trial 23 finished with value: 0.9032318256456188 and parameters: {'n_estimators': 30, 'max_depth': 19}. Best is trial 12 with value: 0.9187565308254964.\u001b[0m\n",
      "\u001b[32m[I 2022-10-09 01:33:34,009]\u001b[0m Trial 24 finished with value: 0.8902634721600238 and parameters: {'n_estimators': 11, 'max_depth': 29}. Best is trial 12 with value: 0.9187565308254964.\u001b[0m\n",
      "\u001b[32m[I 2022-10-09 01:33:34,105]\u001b[0m Trial 25 finished with value: 0.85482907896701 and parameters: {'n_estimators': 19, 'max_depth': 7}. Best is trial 12 with value: 0.9187565308254964.\u001b[0m\n",
      "\u001b[32m[I 2022-10-09 01:33:34,208]\u001b[0m Trial 26 finished with value: 0.8945850126884609 and parameters: {'n_estimators': 16, 'max_depth': 20}. Best is trial 12 with value: 0.9187565308254964.\u001b[0m\n",
      "\u001b[32m[I 2022-10-09 01:33:34,395]\u001b[0m Trial 27 finished with value: 0.9075235109717867 and parameters: {'n_estimators': 27, 'max_depth': 43}. Best is trial 12 with value: 0.9187565308254964.\u001b[0m\n",
      "\u001b[32m[I 2022-10-09 01:33:34,556]\u001b[0m Trial 28 finished with value: 0.9075309747723541 and parameters: {'n_estimators': 21, 'max_depth': 53}. Best is trial 12 with value: 0.9187565308254964.\u001b[0m\n",
      "\u001b[32m[I 2022-10-09 01:33:34,696]\u001b[0m Trial 29 finished with value: 0.9040976265114196 and parameters: {'n_estimators': 22, 'max_depth': 32}. Best is trial 12 with value: 0.9187565308254964.\u001b[0m\n",
      "\u001b[32m[I 2022-10-09 01:33:34,923]\u001b[0m Trial 30 finished with value: 0.9127257799671593 and parameters: {'n_estimators': 25, 'max_depth': 36}. Best is trial 12 with value: 0.9187565308254964.\u001b[0m\n",
      "\u001b[32m[I 2022-10-09 01:33:35,140]\u001b[0m Trial 31 finished with value: 0.9066726377071206 and parameters: {'n_estimators': 30, 'max_depth': 55}. Best is trial 12 with value: 0.9187565308254964.\u001b[0m\n",
      "\u001b[32m[I 2022-10-09 01:33:35,328]\u001b[0m Trial 32 finished with value: 0.9161516644275265 and parameters: {'n_estimators': 28, 'max_depth': 56}. Best is trial 12 with value: 0.9187565308254964.\u001b[0m\n",
      "\u001b[32m[I 2022-10-09 01:33:35,519]\u001b[0m Trial 33 finished with value: 0.9109867144349902 and parameters: {'n_estimators': 28, 'max_depth': 51}. Best is trial 12 with value: 0.9187565308254964.\u001b[0m\n",
      "\u001b[32m[I 2022-10-09 01:33:35,591]\u001b[0m Trial 34 finished with value: 0.7571503209434244 and parameters: {'n_estimators': 25, 'max_depth': 1}. Best is trial 12 with value: 0.9187565308254964.\u001b[0m\n",
      "\u001b[32m[I 2022-10-09 01:33:35,782]\u001b[0m Trial 35 finished with value: 0.9178907299596955 and parameters: {'n_estimators': 28, 'max_depth': 60}. Best is trial 12 with value: 0.9187565308254964.\u001b[0m\n",
      "\u001b[32m[I 2022-10-09 01:33:35,979]\u001b[0m Trial 36 finished with value: 0.9196372592924316 and parameters: {'n_estimators': 28, 'max_depth': 60}. Best is trial 36 with value: 0.9196372592924316.\u001b[0m\n",
      "\u001b[32m[I 2022-10-09 01:33:36,151]\u001b[0m Trial 37 finished with value: 0.9049447678758022 and parameters: {'n_estimators': 23, 'max_depth': 60}. Best is trial 36 with value: 0.9196372592924316.\u001b[0m\n",
      "\u001b[32m[I 2022-10-09 01:33:36,323]\u001b[0m Trial 38 finished with value: 0.910105985968055 and parameters: {'n_estimators': 26, 'max_depth': 48}. Best is trial 36 with value: 0.9196372592924316.\u001b[0m\n",
      "\u001b[32m[I 2022-10-09 01:33:36,527]\u001b[0m Trial 39 finished with value: 0.9135841170323928 and parameters: {'n_estimators': 28, 'max_depth': 60}. Best is trial 36 with value: 0.9196372592924316.\u001b[0m\n",
      "\u001b[32m[I 2022-10-09 01:33:36,717]\u001b[0m Trial 40 finished with value: 0.9092663084042394 and parameters: {'n_estimators': 29, 'max_depth': 45}. Best is trial 36 with value: 0.9196372592924316.\u001b[0m\n",
      "\u001b[32m[I 2022-10-09 01:33:36,912]\u001b[0m Trial 41 finished with value: 0.91790565756083 and parameters: {'n_estimators': 28, 'max_depth': 55}. Best is trial 36 with value: 0.9196372592924316.\u001b[0m\n",
      "\u001b[32m[I 2022-10-09 01:33:37,090]\u001b[0m Trial 42 finished with value: 0.9101209135691894 and parameters: {'n_estimators': 24, 'max_depth': 57}. Best is trial 36 with value: 0.9196372592924316.\u001b[0m\n",
      "\u001b[32m[I 2022-10-09 01:33:37,330]\u001b[0m Trial 43 finished with value: 0.9187677265263472 and parameters: {'n_estimators': 30, 'max_depth': 52}. Best is trial 36 with value: 0.9196372592924316.\u001b[0m\n",
      "\u001b[32m[I 2022-10-09 01:33:37,553]\u001b[0m Trial 44 finished with value: 0.9161703239289446 and parameters: {'n_estimators': 29, 'max_depth': 52}. Best is trial 36 with value: 0.9196372592924316.\u001b[0m\n",
      "\u001b[32m[I 2022-10-09 01:33:37,746]\u001b[0m Trial 45 finished with value: 0.91444618599791 and parameters: {'n_estimators': 30, 'max_depth': 47}. Best is trial 36 with value: 0.9196372592924316.\u001b[0m\n",
      "\u001b[32m[I 2022-10-09 01:33:37,928]\u001b[0m Trial 46 finished with value: 0.9178869980594119 and parameters: {'n_estimators': 27, 'max_depth': 54}. Best is trial 36 with value: 0.9196372592924316.\u001b[0m\n",
      "\u001b[32m[I 2022-10-09 01:33:38,106]\u001b[0m Trial 47 finished with value: 0.9118450515002239 and parameters: {'n_estimators': 26, 'max_depth': 50}. Best is trial 36 with value: 0.9196372592924316.\u001b[0m\n",
      "\u001b[32m[I 2022-10-09 01:33:38,173]\u001b[0m Trial 48 finished with value: 0.8876474100612033 and parameters: {'n_estimators': 7, 'max_depth': 57}. Best is trial 36 with value: 0.9196372592924316.\u001b[0m\n",
      "\u001b[32m[I 2022-10-09 01:33:38,377]\u001b[0m Trial 49 finished with value: 0.9178795342588446 and parameters: {'n_estimators': 30, 'max_depth': 50}. Best is trial 36 with value: 0.9196372592924316.\u001b[0m\n",
      "\u001b[32m[I 2022-10-09 01:33:38,541]\u001b[0m Trial 50 finished with value: 0.9084154351395732 and parameters: {'n_estimators': 25, 'max_depth': 42}. Best is trial 36 with value: 0.9196372592924316.\u001b[0m\n",
      "\u001b[32m[I 2022-10-09 01:33:38,746]\u001b[0m Trial 51 finished with value: 0.906668905806837 and parameters: {'n_estimators': 28, 'max_depth': 60}. Best is trial 36 with value: 0.9196372592924316.\u001b[0m\n",
      "\u001b[32m[I 2022-10-09 01:33:38,949]\u001b[0m Trial 52 finished with value: 0.9187639946260635 and parameters: {'n_estimators': 29, 'max_depth': 57}. Best is trial 36 with value: 0.9196372592924316.\u001b[0m\n",
      "\u001b[32m[I 2022-10-09 01:33:39,161]\u001b[0m Trial 53 finished with value: 0.9178981937602628 and parameters: {'n_estimators': 29, 'max_depth': 55}. Best is trial 36 with value: 0.9196372592924316.\u001b[0m\n",
      "\u001b[32m[I 2022-10-09 01:33:39,340]\u001b[0m Trial 54 finished with value: 0.9126996566651739 and parameters: {'n_estimators': 26, 'max_depth': 57}. Best is trial 36 with value: 0.9196372592924316.\u001b[0m\n",
      "\u001b[32m[I 2022-10-09 01:33:39,547]\u001b[0m Trial 55 finished with value: 0.9179019256605464 and parameters: {'n_estimators': 30, 'max_depth': 53}. Best is trial 36 with value: 0.9196372592924316.\u001b[0m\n",
      "\u001b[32m[I 2022-10-09 01:33:39,752]\u001b[0m Trial 56 finished with value: 0.9196111359904464 and parameters: {'n_estimators': 29, 'max_depth': 53}. Best is trial 36 with value: 0.9196372592924316.\u001b[0m\n",
      "\u001b[32m[I 2022-10-09 01:33:39,914]\u001b[0m Trial 57 finished with value: 0.9153082549634274 and parameters: {'n_estimators': 24, 'max_depth': 46}. Best is trial 36 with value: 0.9196372592924316.\u001b[0m\n",
      "\u001b[32m[I 2022-10-09 01:33:40,013]\u001b[0m Trial 58 finished with value: 0.9023585609792507 and parameters: {'n_estimators': 13, 'max_depth': 49}. Best is trial 36 with value: 0.9196372592924316.\u001b[0m\n",
      "\u001b[32m[I 2022-10-09 01:33:40,204]\u001b[0m Trial 59 finished with value: 0.9170435885953128 and parameters: {'n_estimators': 27, 'max_depth': 52}. Best is trial 36 with value: 0.9196372592924316.\u001b[0m\n",
      "\u001b[32m[I 2022-10-09 01:33:40,388]\u001b[0m Trial 60 finished with value: 0.91444618599791 and parameters: {'n_estimators': 29, 'max_depth': 41}. Best is trial 36 with value: 0.9196372592924316.\u001b[0m\n",
      "\u001b[32m[I 2022-10-09 01:33:40,605]\u001b[0m Trial 61 finished with value: 0.9222048066875654 and parameters: {'n_estimators': 30, 'max_depth': 54}. Best is trial 61 with value: 0.9222048066875654.\u001b[0m\n",
      "\u001b[32m[I 2022-10-09 01:33:40,808]\u001b[0m Trial 62 finished with value: 0.9118525153007913 and parameters: {'n_estimators': 29, 'max_depth': 58}. Best is trial 61 with value: 0.9222048066875654.\u001b[0m\n",
      "\u001b[32m[I 2022-10-09 01:33:41,009]\u001b[0m Trial 63 finished with value: 0.9187639946260635 and parameters: {'n_estimators': 27, 'max_depth': 55}. Best is trial 61 with value: 0.9222048066875654.\u001b[0m\n",
      "\u001b[32m[I 2022-10-09 01:33:41,195]\u001b[0m Trial 64 finished with value: 0.9153194506642782 and parameters: {'n_estimators': 27, 'max_depth': 54}. Best is trial 61 with value: 0.9222048066875654.\u001b[0m\n",
      "\u001b[32m[I 2022-10-09 01:33:41,396]\u001b[0m Trial 65 finished with value: 0.9178832661591283 and parameters: {'n_estimators': 30, 'max_depth': 58}. Best is trial 61 with value: 0.9222048066875654.\u001b[0m\n",
      "\u001b[32m[I 2022-10-09 01:33:41,527]\u001b[0m Trial 66 finished with value: 0.9135841170323928 and parameters: {'n_estimators': 17, 'max_depth': 52}. Best is trial 61 with value: 0.9222048066875654.\u001b[0m\n",
      "\u001b[32m[I 2022-10-09 01:33:41,714]\u001b[0m Trial 67 finished with value: 0.9101209135691894 and parameters: {'n_estimators': 26, 'max_depth': 56}. Best is trial 61 with value: 0.9222048066875654.\u001b[0m\n",
      "\u001b[32m[I 2022-10-09 01:33:41,791]\u001b[0m Trial 68 finished with value: 0.8712457083146739 and parameters: {'n_estimators': 24, 'max_depth': 4}. Best is trial 61 with value: 0.9222048066875654.\u001b[0m\n",
      "\u001b[32m[I 2022-10-09 01:33:41,974]\u001b[0m Trial 69 finished with value: 0.904948499776086 and parameters: {'n_estimators': 28, 'max_depth': 39}. Best is trial 61 with value: 0.9222048066875654.\u001b[0m\n",
      "\u001b[32m[I 2022-10-09 01:33:42,186]\u001b[0m Trial 70 finished with value: 0.9135766532318257 and parameters: {'n_estimators': 29, 'max_depth': 51}. Best is trial 61 with value: 0.9222048066875654.\u001b[0m\n",
      "\u001b[32m[I 2022-10-09 01:33:42,421]\u001b[0m Trial 71 finished with value: 0.9204732049559634 and parameters: {'n_estimators': 27, 'max_depth': 55}. Best is trial 61 with value: 0.9222048066875654.\u001b[0m\n",
      "\u001b[32m[I 2022-10-09 01:33:42,633]\u001b[0m Trial 72 finished with value: 0.9092588446036721 and parameters: {'n_estimators': 27, 'max_depth': 58}. Best is trial 61 with value: 0.9222048066875654.\u001b[0m\n",
      "\u001b[32m[I 2022-10-09 01:33:42,857]\u001b[0m Trial 73 finished with value: 0.9109755187341395 and parameters: {'n_estimators': 30, 'max_depth': 54}. Best is trial 61 with value: 0.9222048066875654.\u001b[0m\n",
      "\u001b[32m[I 2022-10-09 01:33:43,047]\u001b[0m Trial 74 finished with value: 0.9152970592625765 and parameters: {'n_estimators': 25, 'max_depth': 59}. Best is trial 61 with value: 0.9222048066875654.\u001b[0m\n",
      "\u001b[32m[I 2022-10-09 01:33:43,239]\u001b[0m Trial 75 finished with value: 0.9239587998208687 and parameters: {'n_estimators': 28, 'max_depth': 56}. Best is trial 75 with value: 0.9239587998208687.\u001b[0m\n",
      "\u001b[32m[I 2022-10-09 01:33:43,446]\u001b[0m Trial 76 finished with value: 0.9135803851321093 and parameters: {'n_estimators': 28, 'max_depth': 56}. Best is trial 75 with value: 0.9239587998208687.\u001b[0m\n",
      "\u001b[32m[I 2022-10-09 01:33:43,618]\u001b[0m Trial 77 finished with value: 0.9179093894611136 and parameters: {'n_estimators': 26, 'max_depth': 48}. Best is trial 75 with value: 0.9239587998208687.\u001b[0m\n",
      "\u001b[32m[I 2022-10-09 01:33:43,827]\u001b[0m Trial 78 finished with value: 0.91790565756083 and parameters: {'n_estimators': 29, 'max_depth': 50}. Best is trial 75 with value: 0.9239587998208687.\u001b[0m\n",
      "\u001b[32m[I 2022-10-09 01:33:43,991]\u001b[0m Trial 79 finished with value: 0.9084042394387222 and parameters: {'n_estimators': 23, 'max_depth': 53}. Best is trial 75 with value: 0.9239587998208687.\u001b[0m\n",
      "\u001b[32m[I 2022-10-09 01:33:44,167]\u001b[0m Trial 80 finished with value: 0.9075645618749068 and parameters: {'n_estimators': 27, 'max_depth': 45}. Best is trial 75 with value: 0.9239587998208687.\u001b[0m\n",
      "\u001b[32m[I 2022-10-09 01:33:44,378]\u001b[0m Trial 81 finished with value: 0.9196260635915807 and parameters: {'n_estimators': 29, 'max_depth': 56}. Best is trial 75 with value: 0.9239587998208687.\u001b[0m\n",
      "\u001b[32m[I 2022-10-09 01:33:44,596]\u001b[0m Trial 82 finished with value: 0.9153157187639944 and parameters: {'n_estimators': 29, 'max_depth': 55}. Best is trial 75 with value: 0.9239587998208687.\u001b[0m\n",
      "\u001b[32m[I 2022-10-09 01:33:44,788]\u001b[0m Trial 83 finished with value: 0.912718316166592 and parameters: {'n_estimators': 28, 'max_depth': 56}. Best is trial 75 with value: 0.9239587998208687.\u001b[0m\n",
      "\u001b[32m[I 2022-10-09 01:33:45,011]\u001b[0m Trial 84 finished with value: 0.9179019256605464 and parameters: {'n_estimators': 30, 'max_depth': 59}. Best is trial 75 with value: 0.9239587998208687.\u001b[0m\n",
      "\u001b[32m[I 2022-10-09 01:33:45,218]\u001b[0m Trial 85 finished with value: 0.9161815196297954 and parameters: {'n_estimators': 29, 'max_depth': 52}. Best is trial 75 with value: 0.9239587998208687.\u001b[0m\n",
      "\u001b[32m[I 2022-10-09 01:33:45,405]\u001b[0m Trial 86 finished with value: 0.9153007911628602 and parameters: {'n_estimators': 27, 'max_depth': 54}. Best is trial 75 with value: 0.9239587998208687.\u001b[0m\n",
      "\u001b[32m[I 2022-10-09 01:33:45,482]\u001b[0m Trial 87 finished with value: 0.903190774742499 and parameters: {'n_estimators': 8, 'max_depth': 57}. Best is trial 75 with value: 0.9239587998208687.\u001b[0m\n",
      "\u001b[32m[I 2022-10-09 01:33:45,706]\u001b[0m Trial 88 finished with value: 0.9248022092849679 and parameters: {'n_estimators': 30, 'max_depth': 59}. Best is trial 88 with value: 0.9248022092849679.\u001b[0m\n",
      "\u001b[32m[I 2022-10-09 01:33:45,737]\u001b[0m Trial 89 finished with value: 0.8271570383639351 and parameters: {'n_estimators': 3, 'max_depth': 14}. Best is trial 88 with value: 0.9248022092849679.\u001b[0m\n",
      "\u001b[32m[I 2022-10-09 01:33:45,935]\u001b[0m Trial 90 finished with value: 0.9239476041200179 and parameters: {'n_estimators': 25, 'max_depth': 60}. Best is trial 88 with value: 0.9248022092849679.\u001b[0m\n",
      "\u001b[32m[I 2022-10-09 01:33:46,148]\u001b[0m Trial 91 finished with value: 0.9204955963576653 and parameters: {'n_estimators': 30, 'max_depth': 59}. Best is trial 88 with value: 0.9248022092849679.\u001b[0m\n",
      "\u001b[32m[I 2022-10-09 01:33:46,369]\u001b[0m Trial 92 finished with value: 0.9170174652933273 and parameters: {'n_estimators': 30, 'max_depth': 59}. Best is trial 88 with value: 0.9248022092849679.\u001b[0m\n",
      "\u001b[32m[I 2022-10-09 01:33:46,572]\u001b[0m Trial 93 finished with value: 0.9204955963576653 and parameters: {'n_estimators': 28, 'max_depth': 60}. Best is trial 88 with value: 0.9248022092849679.\u001b[0m\n",
      "\u001b[32m[I 2022-10-09 01:33:46,800]\u001b[0m Trial 94 finished with value: 0.9084079713390059 and parameters: {'n_estimators': 26, 'max_depth': 60}. Best is trial 88 with value: 0.9248022092849679.\u001b[0m\n",
      "\u001b[32m[I 2022-10-09 01:33:47,025]\u001b[0m Trial 95 finished with value: 0.9187527989252127 and parameters: {'n_estimators': 28, 'max_depth': 59}. Best is trial 88 with value: 0.9248022092849679.\u001b[0m\n",
      "\u001b[32m[I 2022-10-09 01:33:47,250]\u001b[0m Trial 96 finished with value: 0.9109979101358412 and parameters: {'n_estimators': 28, 'max_depth': 58}. Best is trial 88 with value: 0.9248022092849679.\u001b[0m\n",
      "\u001b[32m[I 2022-10-09 01:33:47,443]\u001b[0m Trial 97 finished with value: 0.9144461859979103 and parameters: {'n_estimators': 20, 'max_depth': 60}. Best is trial 88 with value: 0.9248022092849679.\u001b[0m\n",
      "\u001b[32m[I 2022-10-09 01:33:47,668]\u001b[0m Trial 98 finished with value: 0.9178981937602627 and parameters: {'n_estimators': 30, 'max_depth': 56}. Best is trial 88 with value: 0.9248022092849679.\u001b[0m\n",
      "\u001b[32m[I 2022-10-09 01:33:47,855]\u001b[0m Trial 99 finished with value: 0.9066875653082549 and parameters: {'n_estimators': 25, 'max_depth': 57}. Best is trial 88 with value: 0.9248022092849679.\u001b[0m\n"
     ]
    },
    {
     "name": "stdout",
     "output_type": "stream",
     "text": [
      "Accuracy: 0.9248022092849679\n",
      "Best hyperparameters: {'n_estimators': 30, 'max_depth': 59}\n"
     ]
    }
   ],
   "source": [
    "import optuna\n",
    "\n",
    "def objective(trial):       # define an objective to test different hyperparameter\n",
    "      \n",
    "      n_estimators = trial.suggest_int('n_estimators', 2, 30)\n",
    "      max_depth = int(trial.suggest_int('max_depth', 1, 60))\n",
    "      clf = sklearn.ensemble.RandomForestClassifier(n_estimators=n_estimators, max_depth=max_depth)\n",
    "      return sklearn.model_selection.cross_val_score(clf, tfidf_x, y, n_jobs=-1, cv=5).mean()\n",
    "\n",
    "\n",
    "study = optuna.create_study(direction='maximize')     # direction defines weather to find max or min values for hyperparameter\n",
    "study.optimize(objective, n_trials=100)              # number of trials is iterations done to find best hyperparameter\n",
    "\n",
    "# best trials will gives best hyperparameter\n",
    "trial = study.best_trial\n",
    "print('Accuracy: {}'.format(trial.value))\n",
    "print(\"Best hyperparameters: {}\".format(trial.params))\n"
   ]
  },
  {
   "cell_type": "markdown",
   "metadata": {},
   "source": [
    "Use these parameters to build a model using whole dataset"
   ]
  },
  {
   "cell_type": "code",
   "execution_count": 21,
   "metadata": {},
   "outputs": [],
   "source": [
    "rfcs = RandomForestClassifier(n_estimators= 30, max_depth=59)"
   ]
  },
  {
   "cell_type": "code",
   "execution_count": 22,
   "metadata": {},
   "outputs": [
    {
     "data": {
      "text/plain": [
       "RandomForestClassifier(max_depth=59, n_estimators=30)"
      ]
     },
     "execution_count": 22,
     "metadata": {},
     "output_type": "execute_result"
    }
   ],
   "source": [
    "rfcs.fit(tfidf_x, y)"
   ]
  },
  {
   "cell_type": "code",
   "execution_count": 23,
   "metadata": {},
   "outputs": [],
   "source": [
    "test_df = pd.read_csv('data/test.csv')\n",
    "X_Test = test_df['CONTENT']\n",
    "tx = tfidf_vectorizer.transform(X_Test)\n",
    "\n",
    "# Predictions of the model\n",
    "y_pred=rfcs.predict(tx)"
   ]
  },
  {
   "cell_type": "markdown",
   "metadata": {},
   "source": [
    "To submit the output:\n",
    "\n",
    "    submisstion = pd.DataFrame()\n",
    "    submisstion['ID'] = test_df['ID']\n",
    "    submisstion['CLASS'] = y_pred\n",
    "    submisstion.to_csv('ans1.csv', index=False)"
   ]
  },
  {
   "cell_type": "markdown",
   "metadata": {},
   "source": [
    "<a id=\"5\"></a>\n",
    "# <div style=\"text-align: center; background-color: #682F2F; font-family:newtimeroman;font-size:15px color: white; padding: 14px; line-height:0.5;border-radius:20px\">Summary</div>"
   ]
  }
 ],
 "metadata": {
  "kernelspec": {
   "display_name": "Python 3.9.7 ('base')",
   "language": "python",
   "name": "python3"
  },
  "language_info": {
   "codemirror_mode": {
    "name": "ipython",
    "version": 3
   },
   "file_extension": ".py",
   "mimetype": "text/x-python",
   "name": "python",
   "nbconvert_exporter": "python",
   "pygments_lexer": "ipython3",
   "version": "3.9.7"
  },
  "orig_nbformat": 4,
  "vscode": {
   "interpreter": {
    "hash": "ff53c007ab446cbdffaa224045a89d492b3d74daa3d166991f7fd18f86cd0acf"
   }
  }
 },
 "nbformat": 4,
 "nbformat_minor": 2
}
